{
 "cells": [
  {
   "cell_type": "code",
   "execution_count": 1,
   "id": "6700fd71",
   "metadata": {},
   "outputs": [],
   "source": [
    "## 연습용~"
   ]
  },
  {
   "cell_type": "code",
   "execution_count": 18,
   "id": "ef3a4862",
   "metadata": {},
   "outputs": [],
   "source": [
    "import pandas as pd\n",
    "import matplotlib.pyplot as plt\n",
    "\n",
    "df = pd.read_excel('시도별 전출입 인구수.xlsx',header=0)\n",
    "\n",
    "df = df.fillna(method='ffill')"
   ]
  },
  {
   "cell_type": "code",
   "execution_count": null,
   "id": "bf5600e0",
   "metadata": {},
   "outputs": [],
   "source": [
    "import pandas as pd\n",
    "import matplotlib.pyplot as plt\n",
    "\n"
   ]
  },
  {
   "cell_type": "code",
   "execution_count": 3,
   "id": "a1417985",
   "metadata": {},
   "outputs": [
    {
     "name": "stdout",
     "output_type": "stream",
     "text": [
      "전출지별    325\n",
      "전입지별    325\n",
      "1970    325\n",
      "1971    325\n",
      "1972    325\n",
      "1973    325\n",
      "1974    325\n",
      "1975    325\n",
      "1976    325\n",
      "1977    325\n",
      "1978    325\n",
      "1979    325\n",
      "1980    325\n",
      "1981    325\n",
      "1982    325\n",
      "1983    325\n",
      "1984    325\n",
      "1985    325\n",
      "1986    325\n",
      "1987    325\n",
      "1988    325\n",
      "1989    325\n",
      "1990    325\n",
      "1991    325\n",
      "1992    325\n",
      "1993    325\n",
      "1994    325\n",
      "1995    325\n",
      "1996    325\n",
      "1997    325\n",
      "1998    325\n",
      "1999    325\n",
      "2000    325\n",
      "2001    325\n",
      "2002    325\n",
      "2003    325\n",
      "2004    325\n",
      "2005    325\n",
      "2006    325\n",
      "2007    325\n",
      "2008    325\n",
      "2009    325\n",
      "2010    325\n",
      "2011    325\n",
      "2012    325\n",
      "2013    325\n",
      "2014    325\n",
      "2015    325\n",
      "2016    325\n",
      "2017    325\n",
      "dtype: int64\n"
     ]
    }
   ],
   "source": [
    "print(df. count())"
   ]
  },
  {
   "cell_type": "code",
   "execution_count": 6,
   "id": "4cebacaf",
   "metadata": {},
   "outputs": [
    {
     "data": {
      "text/plain": [
       "Index(['전출지별', '전입지별', '1970', '1971', '1972', '1973', '1974', '1975', '1976',\n",
       "       '1977', '1978', '1979', '1980', '1981', '1982', '1983', '1984', '1985',\n",
       "       '1986', '1987', '1988', '1989', '1990', '1991', '1992', '1993', '1994',\n",
       "       '1995', '1996', '1997', '1998', '1999', '2000', '2001', '2002', '2003',\n",
       "       '2004', '2005', '2006', '2007', '2008', '2009', '2010', '2011', '2012',\n",
       "       '2013', '2014', '2015', '2016', '2017'],\n",
       "      dtype='object')"
      ]
     },
     "execution_count": 6,
     "metadata": {},
     "output_type": "execute_result"
    }
   ],
   "source": [
    "df.columns"
   ]
  },
  {
   "cell_type": "code",
   "execution_count": 9,
   "id": "ec73a795",
   "metadata": {},
   "outputs": [
    {
     "name": "stdout",
     "output_type": "stream",
     "text": [
      "50\n"
     ]
    }
   ],
   "source": [
    "print(df.shape[1])"
   ]
  },
  {
   "cell_type": "code",
   "execution_count": 10,
   "id": "9a317452",
   "metadata": {},
   "outputs": [
    {
     "name": "stdout",
     "output_type": "stream",
     "text": [
      "<class 'pandas.core.frame.DataFrame'>\n",
      "RangeIndex: 325 entries, 0 to 324\n",
      "Data columns (total 50 columns):\n",
      " #   Column  Non-Null Count  Dtype \n",
      "---  ------  --------------  ----- \n",
      " 0   전출지별    325 non-null    object\n",
      " 1   전입지별    325 non-null    object\n",
      " 2   1970    325 non-null    object\n",
      " 3   1971    325 non-null    object\n",
      " 4   1972    325 non-null    object\n",
      " 5   1973    325 non-null    object\n",
      " 6   1974    325 non-null    object\n",
      " 7   1975    325 non-null    object\n",
      " 8   1976    325 non-null    object\n",
      " 9   1977    325 non-null    object\n",
      " 10  1978    325 non-null    object\n",
      " 11  1979    325 non-null    object\n",
      " 12  1980    325 non-null    object\n",
      " 13  1981    325 non-null    object\n",
      " 14  1982    325 non-null    object\n",
      " 15  1983    325 non-null    object\n",
      " 16  1984    325 non-null    object\n",
      " 17  1985    325 non-null    object\n",
      " 18  1986    325 non-null    object\n",
      " 19  1987    325 non-null    object\n",
      " 20  1988    325 non-null    object\n",
      " 21  1989    325 non-null    object\n",
      " 22  1990    325 non-null    object\n",
      " 23  1991    325 non-null    object\n",
      " 24  1992    325 non-null    object\n",
      " 25  1993    325 non-null    object\n",
      " 26  1994    325 non-null    object\n",
      " 27  1995    325 non-null    object\n",
      " 28  1996    325 non-null    object\n",
      " 29  1997    325 non-null    object\n",
      " 30  1998    325 non-null    object\n",
      " 31  1999    325 non-null    object\n",
      " 32  2000    325 non-null    object\n",
      " 33  2001    325 non-null    object\n",
      " 34  2002    325 non-null    object\n",
      " 35  2003    325 non-null    object\n",
      " 36  2004    325 non-null    object\n",
      " 37  2005    325 non-null    object\n",
      " 38  2006    325 non-null    object\n",
      " 39  2007    325 non-null    object\n",
      " 40  2008    325 non-null    object\n",
      " 41  2009    325 non-null    object\n",
      " 42  2010    325 non-null    object\n",
      " 43  2011    325 non-null    object\n",
      " 44  2012    325 non-null    object\n",
      " 45  2013    325 non-null    object\n",
      " 46  2014    325 non-null    object\n",
      " 47  2015    325 non-null    object\n",
      " 48  2016    325 non-null    object\n",
      " 49  2017    325 non-null    object\n",
      "dtypes: object(50)\n",
      "memory usage: 127.1+ KB\n"
     ]
    }
   ],
   "source": [
    "df.info()"
   ]
  },
  {
   "cell_type": "code",
   "execution_count": 11,
   "id": "d50c5088",
   "metadata": {},
   "outputs": [
    {
     "data": {
      "text/plain": [
       "Index(['전출지별', '전입지별', '1970', '1971', '1972', '1973', '1974', '1975', '1976',\n",
       "       '1977', '1978', '1979', '1980', '1981', '1982', '1983', '1984', '1985',\n",
       "       '1986', '1987', '1988', '1989', '1990', '1991', '1992', '1993', '1994',\n",
       "       '1995', '1996', '1997', '1998', '1999', '2000', '2001', '2002', '2003',\n",
       "       '2004', '2005', '2006', '2007', '2008', '2009', '2010', '2011', '2012',\n",
       "       '2013', '2014', '2015', '2016', '2017'],\n",
       "      dtype='object')"
      ]
     },
     "execution_count": 11,
     "metadata": {},
     "output_type": "execute_result"
    }
   ],
   "source": [
    "df.columns"
   ]
  },
  {
   "cell_type": "code",
   "execution_count": 17,
   "id": "e2dbb57f",
   "metadata": {},
   "outputs": [
    {
     "name": "stderr",
     "output_type": "stream",
     "text": [
      "C:\\Users\\jumin\\anaconda3\\lib\\site-packages\\IPython\\core\\pylabtools.py:151: UserWarning: Glyph 49436 (\\N{HANGUL SYLLABLE SEO}) missing from current font.\n",
      "  fig.canvas.print_figure(bytes_io, **kw)\n",
      "C:\\Users\\jumin\\anaconda3\\lib\\site-packages\\IPython\\core\\pylabtools.py:151: UserWarning: Glyph 50872 (\\N{HANGUL SYLLABLE UL}) missing from current font.\n",
      "  fig.canvas.print_figure(bytes_io, **kw)\n",
      "C:\\Users\\jumin\\anaconda3\\lib\\site-packages\\IPython\\core\\pylabtools.py:151: UserWarning: Glyph 44221 (\\N{HANGUL SYLLABLE GYEONG}) missing from current font.\n",
      "  fig.canvas.print_figure(bytes_io, **kw)\n",
      "C:\\Users\\jumin\\anaconda3\\lib\\site-packages\\IPython\\core\\pylabtools.py:151: UserWarning: Glyph 44592 (\\N{HANGUL SYLLABLE GI}) missing from current font.\n",
      "  fig.canvas.print_figure(bytes_io, **kw)\n",
      "C:\\Users\\jumin\\anaconda3\\lib\\site-packages\\IPython\\core\\pylabtools.py:151: UserWarning: Glyph 51064 (\\N{HANGUL SYLLABLE IN}) missing from current font.\n",
      "  fig.canvas.print_figure(bytes_io, **kw)\n",
      "C:\\Users\\jumin\\anaconda3\\lib\\site-packages\\IPython\\core\\pylabtools.py:151: UserWarning: Glyph 44396 (\\N{HANGUL SYLLABLE GU}) missing from current font.\n",
      "  fig.canvas.print_figure(bytes_io, **kw)\n",
      "C:\\Users\\jumin\\anaconda3\\lib\\site-packages\\IPython\\core\\pylabtools.py:151: UserWarning: Glyph 51060 (\\N{HANGUL SYLLABLE I}) missing from current font.\n",
      "  fig.canvas.print_figure(bytes_io, **kw)\n",
      "C:\\Users\\jumin\\anaconda3\\lib\\site-packages\\IPython\\core\\pylabtools.py:151: UserWarning: Glyph 46041 (\\N{HANGUL SYLLABLE DONG}) missing from current font.\n",
      "  fig.canvas.print_figure(bytes_io, **kw)\n",
      "C:\\Users\\jumin\\anaconda3\\lib\\site-packages\\IPython\\core\\pylabtools.py:151: UserWarning: Glyph 44036 (\\N{HANGUL SYLLABLE GAN}) missing from current font.\n",
      "  fig.canvas.print_figure(bytes_io, **kw)\n",
      "C:\\Users\\jumin\\anaconda3\\lib\\site-packages\\IPython\\core\\pylabtools.py:151: UserWarning: Glyph 49688 (\\N{HANGUL SYLLABLE SU}) missing from current font.\n",
      "  fig.canvas.print_figure(bytes_io, **kw)\n"
     ]
    },
    {
     "data": {
      "image/png": "[encoded data removed]",
      "text/plain": [
       "<Figure size 640x480 with 1 Axes>"
      ]
     },
     "metadata": {},
     "output_type": "display_data"
    }
   ],
   "source": [
    "mask = (df['전출지별'] =='서울특별시')& (df['전입지별'] !='서울특별시')\n",
    "#서울에서 - 서울 아닌곳으로 간 경우\n",
    "df_seoul=df[mask] \n",
    "#인덱스에 조건을 넣어주면 작동함!! R과 같음\n",
    "df_seoul = df_seoul.drop(['전출지별'],axis=1)\n",
    "df_seoul.rename({'전입지별':'전입지'},axis=1,inplace=True)\n",
    "df_seoul.set_index('전입지',inplace=True)\n",
    "\n",
    "sr_one=df_seoul.loc['경기도']\n",
    "\n",
    "plt.plot(sr_one.index,sr_one.values)\n",
    "\n",
    "plt.title('서울 -> 경기 인구 이동')\n",
    "\n",
    "plt.xlabel('기간')\n",
    "plt.ylabel('이동 인구수')\n",
    "\n",
    "plt.show()"
   ]
  },
  {
   "cell_type": "code",
   "execution_count": null,
   "id": "50fb05bc",
   "metadata": {},
   "outputs": [],
   "source": []
  }
 ],
 "metadata": {
  "kernelspec": {
   "display_name": "Python 3 (ipykernel)",
   "language": "python",
   "name": "python3"
  },
  "language_info": {
   "codemirror_mode": {
    "name": "ipython",
    "version": 3
   },
   "file_extension": ".py",
   "mimetype": "text/x-python",
   "name": "python",
   "nbconvert_exporter": "python",
   "pygments_lexer": "ipython3",
   "version": "3.9.13"
  },
  "varInspector": {
   "cols": {
    "lenName": 16,
    "lenType": 16,
    "lenVar": 40
   },
   "kernels_config": {
    "python": {
     "delete_cmd_postfix": "",
     "delete_cmd_prefix": "del ",
     "library": "var_list.py",
     "varRefreshCmd": "print(var_dic_list())"
    },
    "r": {
     "delete_cmd_postfix": ") ",
     "delete_cmd_prefix": "rm(",
     "library": "var_list.r",
     "varRefreshCmd": "cat(var_dic_list()) "
    }
   },
   "types_to_exclude": [
    "module",
    "function",
    "builtin_function_or_method",
    "instance",
    "_Feature"
   ],
   "window_display": false
  }
 },
 "nbformat": 4,
 "nbformat_minor": 5
}
