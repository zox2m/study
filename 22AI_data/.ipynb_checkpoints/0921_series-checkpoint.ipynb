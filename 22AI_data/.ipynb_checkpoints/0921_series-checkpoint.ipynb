{
 "cells": [
  {
   "cell_type": "markdown",
   "id": "3ee2cabb",
   "metadata": {},
   "source": [
    "# 0921 오늘 축제날이다!! "
   ]
  },
  {
   "cell_type": "code",
   "execution_count": 2,
   "id": "66ea1bcb",
   "metadata": {},
   "outputs": [],
   "source": [
    "import pandas as pd"
   ]
  },
  {
   "cell_type": "code",
   "execution_count": 3,
   "id": "d86d06a9",
   "metadata": {
    "scrolled": true
   },
   "outputs": [
    {
     "name": "stdout",
     "output_type": "stream",
     "text": [
      "<class 'pandas.core.series.Series'>\n",
      "\n",
      "\n",
      "a    1\n",
      "b    2\n",
      "c    3\n",
      "dtype: int64\n"
     ]
    }
   ],
   "source": [
    "#딕셔너리를 시리즈로 변환해보기. \n",
    "# 딕셔너리 데이터를 만들고 그걸 판다스의 Series함수로 굴리면 시리즈가 되어 나온다\n",
    "dict_data = {'a':1,'b':2,'c':3}\n",
    "sr = pd.Series(dict_data)\n",
    "print(type(sr))\n",
    "print('\\n')\n",
    "print(sr)"
   ]
  },
  {
   "cell_type": "code",
   "execution_count": 8,
   "id": "fbd0ef37",
   "metadata": {},
   "outputs": [
    {
     "name": "stdout",
     "output_type": "stream",
     "text": [
      "0    2022-09-21\n",
      "1          3.14\n",
      "2          True\n",
      "dtype: object\n"
     ]
    }
   ],
   "source": [
    "#리스트를 시리즈로 변환해보기.\n",
    "#리스트는 별도의 인덱스가 없으므로 디폴트 숫자 0 1 2..가 된다\n",
    "lt = ['2022-09-21',3.14,True]  # 섞어서 객체형 자료가 된건가?\n",
    "\n",
    "sr1 = pd.Series(lt)\n",
    "print(sr1)"
   ]
  },
  {
   "cell_type": "code",
   "execution_count": 9,
   "id": "88ff4a9c",
   "metadata": {},
   "outputs": [
    {
     "name": "stdout",
     "output_type": "stream",
     "text": [
      "0    2.00\n",
      "1    3.14\n",
      "2    5.00\n",
      "dtype: float64\n"
     ]
    }
   ],
   "source": [
    "#리스트를 숫자형으로만 만들면?\n",
    "lt = [2.0,3.14,5.0]\n",
    "\n",
    "sr1 = pd.Series(lt)\n",
    "print(sr1)"
   ]
  },
  {
   "cell_type": "code",
   "execution_count": 4,
   "id": "42b4f23f",
   "metadata": {},
   "outputs": [
    {
     "name": "stdout",
     "output_type": "stream",
     "text": [
      "Index(['a', 'b', 'c'], dtype='object')\n",
      "[1 2 3]\n",
      "3\n",
      "3\n"
     ]
    }
   ],
   "source": [
    "#시리즈sms index, values 속성을 갖고있다.\n",
    "print(sr.index)\n",
    "print(sr.values)"
   ]
  },
  {
   "cell_type": "code",
   "execution_count": 11,
   "id": "8e24c14e",
   "metadata": {},
   "outputs": [
    {
     "name": "stdout",
     "output_type": "stream",
     "text": [
      "RangeIndex(start=0, stop=3, step=1)\n"
     ]
    }
   ],
   "source": [
    "print(sr1.index) # 자동 인덱스는, range로 붙어있는걸 확인할 수 있다"
   ]
  },
  {
   "cell_type": "code",
   "execution_count": 18,
   "id": "b6f97f01",
   "metadata": {
    "scrolled": true
   },
   "outputs": [
    {
     "name": "stdout",
     "output_type": "stream",
     "text": [
      "문자    2022-09-21\n",
      "실수          3.14\n",
      "정수             2\n",
      "논리          True\n",
      "dtype: object\n"
     ]
    }
   ],
   "source": [
    "#튜플을 이용해서 시리즈 객체 생성하기 ( 튜플을 시리즈로 바꾸기)\n",
    "tp = ('2022-09-21',3.14,2,True)\n",
    "sr2 = pd.Series(tp,index=['문자','실수','정수','논리'])\n",
    "print(sr2) #튜플 데이터에 인덱스를 지정한 시리즈로 만듬"
   ]
  },
  {
   "cell_type": "code",
   "execution_count": null,
   "id": "490e9042",
   "metadata": {},
   "outputs": [],
   "source": [
    "#인덱스로 호출해도, 값으로 호출해도 된다\n",
    "print(sr[2])   \n",
    "print(sr['c'])"
   ]
  },
  {
   "cell_type": "code",
   "execution_count": 20,
   "id": "fa7d4d31",
   "metadata": {},
   "outputs": [
    {
     "name": "stdout",
     "output_type": "stream",
     "text": [
      "   a  b  c\n",
      "0  1  4  7\n",
      "1  2  5  8\n",
      "2  3  6  9\n"
     ]
    }
   ],
   "source": [
    "## data Frame\n",
    "dic1= {'a':[1,2,3],'b':[4,5,6],'c':[7,8,9]}\n",
    "df = pd.DataFrame(dic1)\n",
    "print(df)"
   ]
  },
  {
   "cell_type": "code",
   "execution_count": 28,
   "id": "6ae098d2",
   "metadata": {},
   "outputs": [
    {
     "name": "stdout",
     "output_type": "stream",
     "text": [
      "     나이 성별    학교\n",
      "서주민  15  여  영주여중\n",
      "김수진  15  여  영주여중\n"
     ]
    }
   ],
   "source": [
    "#열이름, 인덱스명을 지정하여 df생성하기\n",
    "df1= pd.DataFrame([[15,'여','영주여중'],[15,'여','영주여중']],\n",
    "                  index=['서주민','김수진'],\n",
    "                  columns=['나이','성별','학교'])\n",
    "\n",
    "print(df1)  #위와 차이점.. 행렬이 뒤집히지 않음"
   ]
  },
  {
   "cell_type": "code",
   "execution_count": 22,
   "id": "e9311334",
   "metadata": {},
   "outputs": [
    {
     "name": "stdout",
     "output_type": "stream",
     "text": [
      "Index(['서주민', '김수진'], dtype='object')\n",
      "Index(['나이', '성별', '학교'], dtype='object')\n"
     ]
    }
   ],
   "source": [
    "print(df1.index)\n",
    "print(df1.columns)"
   ]
  },
  {
   "cell_type": "code",
   "execution_count": 29,
   "id": "d435069b",
   "metadata": {},
   "outputs": [],
   "source": [
    "#인덱스, 칼럼명 변경 \n",
    "df1.index = ['std1','std2']\n",
    "df1.columns=['age','gen','school']"
   ]
  },
  {
   "cell_type": "code",
   "execution_count": 30,
   "id": "202869bc",
   "metadata": {},
   "outputs": [
    {
     "name": "stdout",
     "output_type": "stream",
     "text": [
      "      age gen school\n",
      "std1   15   여   영주여중\n",
      "std2   15   여   영주여중\n"
     ]
    }
   ],
   "source": [
    "print(df1)"
   ]
  },
  {
   "cell_type": "code",
   "execution_count": 31,
   "id": "89750070",
   "metadata": {},
   "outputs": [
    {
     "name": "stdout",
     "output_type": "stream",
     "text": [
      "      age gen school\n",
      "std1   15   여   영주여중\n",
      "std2   15   여   영주여중\n",
      "      연령 남여    소속\n",
      "std1  15  여  영주여중\n",
      "std2  15  여  영주여중\n",
      "      연령 남여    소속\n",
      "std1  15  여  영주여중\n",
      "std2  15  여  영주여중\n"
     ]
    }
   ],
   "source": [
    "df1.rename(columns={'age':'연령','gen':'남여','school':'소속'})\n",
    "print(df1) #안바뀜. 왜?!\n",
    "  \n",
    "df2 = df1.rename(columns={'age':'연령','gen':'남여','school':'소속'})\n",
    "print(df2) #바뀜! rename의 특징. 1회 바꿔서 보자! 라는 뜻이 된다. 원본 데이터를 지키기위해서~\n",
    "\n",
    "df1.rename(columns={'age':'연령','gen':'남여','school':'소속'},\n",
    "          inplace=True)\n",
    "print(df1) #inplace True면 고쳐진다!!\n",
    "      \n",
    "      "
   ]
  },
  {
   "cell_type": "code",
   "execution_count": null,
   "id": "cfe93d7a",
   "metadata": {},
   "outputs": [],
   "source": []
  }
 ],
 "metadata": {
  "kernelspec": {
   "display_name": "Python 3 (ipykernel)",
   "language": "python",
   "name": "python3"
  },
  "language_info": {
   "codemirror_mode": {
    "name": "ipython",
    "version": 3
   },
   "file_extension": ".py",
   "mimetype": "text/x-python",
   "name": "python",
   "nbconvert_exporter": "python",
   "pygments_lexer": "ipython3",
   "version": "3.10.7"
  }
 },
 "nbformat": 4,
 "nbformat_minor": 5
}
