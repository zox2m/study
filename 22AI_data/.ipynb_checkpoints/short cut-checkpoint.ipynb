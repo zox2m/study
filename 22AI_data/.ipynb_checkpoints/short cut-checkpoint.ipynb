{
 "cells": [
  {
   "cell_type": "markdown",
   "id": "2b328024",
   "metadata": {},
   "source": [
    "# 제목 은 샾 하나\n",
    "### 하위제목 샾 세개!\n",
    "그냥쓰면 이렇게~\n"
   ]
  },
  {
   "cell_type": "code",
   "execution_count": 4,
   "id": "246faf26",
   "metadata": {},
   "outputs": [],
   "source": [
    "#a 위에 셀 추가"
   ]
  },
  {
   "cell_type": "code",
   "execution_count": 5,
   "id": "8e782112",
   "metadata": {},
   "outputs": [],
   "source": [
    "#b 아래에 셀 추가"
   ]
  },
  {
   "cell_type": "code",
   "execution_count": 10,
   "id": "e676b54e",
   "metadata": {},
   "outputs": [],
   "source": [
    "#alt + enter 실행후 아래에 셀 추가"
   ]
  },
  {
   "cell_type": "code",
   "execution_count": null,
   "id": "06dd88c7",
   "metadata": {},
   "outputs": [],
   "source": [
    "#shift + enter 실행후 지나가기"
   ]
  },
  {
   "cell_type": "code",
   "execution_count": 7,
   "id": "4636bad0",
   "metadata": {},
   "outputs": [],
   "source": [
    "#c 복사 x 잘라내기"
   ]
  },
  {
   "cell_type": "code",
   "execution_count": 11,
   "id": "b8f36f9c",
   "metadata": {},
   "outputs": [],
   "source": [
    "#v 붙여넣기"
   ]
  },
  {
   "cell_type": "code",
   "execution_count": null,
   "id": "165a7d84",
   "metadata": {},
   "outputs": [],
   "source": [
    "#dd 삭제"
   ]
  },
  {
   "cell_type": "code",
   "execution_count": 9,
   "id": "e3f00b34",
   "metadata": {},
   "outputs": [
    {
     "name": "stdout",
     "output_type": "stream",
     "text": [
      "hello world!\n"
     ]
    }
   ],
   "source": [
    "print('hello world!')"
   ]
  }
 ],
 "metadata": {
  "kernelspec": {
   "display_name": "Python 3 (ipykernel)",
   "language": "python",
   "name": "python3"
  },
  "language_info": {
   "codemirror_mode": {
    "name": "ipython",
    "version": 3
   },
   "file_extension": ".py",
   "mimetype": "text/x-python",
   "name": "python",
   "nbconvert_exporter": "python",
   "pygments_lexer": "ipython3",
   "version": "3.10.7"
  }
 },
 "nbformat": 4,
 "nbformat_minor": 5
}
