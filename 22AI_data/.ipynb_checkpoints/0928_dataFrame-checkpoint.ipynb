{
 "cells": [
  {
   "cell_type": "code",
   "execution_count": 1,
   "id": "a47b57ad",
   "metadata": {},
   "outputs": [
    {
     "name": "stdout",
     "output_type": "stream",
     "text": [
      "    수학  국어  영어  정보\n",
      "서줌  90  90  90  90\n",
      "유진  80  80  80  80\n",
      "주안  70  70  70  70\n"
     ]
    }
   ],
   "source": [
    "#0928 데이터프레임 만들기\n",
    "#DataFrame() 함수로 데이터프레임 변환, 변수 df에 저장\n",
    "import pandas as pd\n",
    "exam_data={'수학':[90,80,70],\n",
    "         '국어':[90,80,70],\n",
    "         '영어':[90,80,70],\n",
    "         '정보':[90,80,70]}\n",
    "df = pd.DataFrame(exam_data,index=['서줌','유진','주안'])\n",
    "print(df)"
   ]
  },
  {
   "cell_type": "code",
   "execution_count": 2,
   "id": "e47cd4bb",
   "metadata": {},
   "outputs": [
    {
     "name": "stdout",
     "output_type": "stream",
     "text": [
      "90\n",
      "    수학  국어  영어  정보\n",
      "서줌  90  90  90  90\n",
      "유진  80  80  80  80\n",
      "주안  70  70  70  70\n",
      "90\n",
      "    수학  국어  영어  정보\n",
      "서줌  90  90  90  90\n",
      "유진  80  80  80  80\n",
      "주안  70  70  70  70\n"
     ]
    }
   ],
   "source": [
    "#1개의 원소를 선택\n",
    "print(df.loc['서줌','국어'])\n",
    "print(df)\n",
    "print(df.iloc[0,2])\n",
    "print(df)"
   ]
  },
  {
   "cell_type": "code",
   "execution_count": 3,
   "id": "b4fe32ff",
   "metadata": {},
   "outputs": [
    {
     "name": "stdout",
     "output_type": "stream",
     "text": [
      "국어    90\n",
      "영어    90\n",
      "Name: 서줌, dtype: int64\n",
      "    수학  국어  영어  정보\n",
      "서줌  90  90  90  90\n",
      "유진  80  80  80  80\n",
      "주안  70  70  70  70\n",
      "영어    90\n",
      "정보    90\n",
      "Name: 서줌, dtype: int64\n",
      "    수학  국어  영어  정보\n",
      "서줌  90  90  90  90\n",
      "유진  80  80  80  80\n",
      "주안  70  70  70  70\n"
     ]
    }
   ],
   "source": [
    "#2개 이상의 원소를 리스트로 선택\n",
    "print(df.loc['서줌','국어':'영어'])\n",
    "print(df)\n",
    "print(df.iloc[0,2:])\n",
    "print(df)"
   ]
  },
  {
   "cell_type": "code",
   "execution_count": 4,
   "id": "a8830d93",
   "metadata": {},
   "outputs": [
    {
     "name": "stdout",
     "output_type": "stream",
     "text": [
      "    국어  영어\n",
      "서줌  90  90\n",
      "유진  80  80\n",
      "    영어  정보\n",
      "서줌  90  90\n",
      "유진  80  80\n",
      "    국어  영어\n",
      "서줌  90  90\n",
      "유진  80  80\n",
      "주안  70  70\n",
      "    영어  정보\n",
      "서줌  90  90\n",
      "유진  80  80\n",
      "    수학  국어\n",
      "서줌  90  90\n",
      "유진  80  80\n",
      "주안  70  70\n",
      "<class 'pandas.core.frame.DataFrame'>\n"
     ]
    }
   ],
   "source": [
    "#2개 이상의 원소를 데이터 프레임으로 선택\n",
    "print(df.loc[['서줌','유진'],['국어','영어']])\n",
    "print(df.iloc[[0,1],[2,3]])\n",
    "print(df.loc['서줌':'주안','국어':'영어'])\n",
    "print(df.iloc[0:2,2:])\n",
    "              \n",
    "print(df[['수학','국어']])\n",
    "print(type(df[['수학','국어']]))"
   ]
  },
  {
   "cell_type": "code",
   "execution_count": 22,
   "id": "bf75bbb9",
   "metadata": {},
   "outputs": [
    {
     "name": "stdout",
     "output_type": "stream",
     "text": [
      "     수학   국어   영어   정보\n",
      "서줌  100  100  100  100\n",
      "유진   80   80   80   80\n",
      "주안   70   70   70   70\n",
      "5     0    0    0    0\n",
      "국어   50   60   70   80\n",
      "승현  100   90   80   70\n",
      "3     0    0    0    0\n",
      "     수학   국어   영어   정보\n",
      "서줌  100  100  100  100\n",
      "유진   80   80   80   80\n",
      "주안   70   70   70   70\n",
      "5     0    0    0    0\n",
      "국어   50   60   70   80\n",
      "승현  100   90   80   70\n",
      "3     0    0    0    0\n",
      "4   100  100  100  100\n",
      "     수학   국어   영어   정보\n",
      "서줌  100  100  100  100\n",
      "유진   80   80   80   80\n",
      "주안   70   70   70   70\n",
      "5     0    0    0    0\n",
      "국어   50   60   70   80\n",
      "승현  100   90   80   70\n",
      "3     0    0    0    0\n",
      "4   100  100  100  100\n"
     ]
    }
   ],
   "source": [
    "#새로운 행(row)추가 - 같은 원소 값 입력\n",
    "df.loc[3]='0'\n",
    "print(df)\n",
    "\n",
    "#새로운 행(row)추가 - 원소값 여러개의 배열 입력\n",
    "df.loc[4] = [100,100,100,100]\n",
    "print(df)\n",
    "\n",
    "#새로운행 - 기존행 복사해서\n",
    "df.loc[5] = df.loc[3] \n",
    "print(df)"
   ]
  },
  {
   "cell_type": "code",
   "execution_count": 23,
   "id": "086c1105",
   "metadata": {},
   "outputs": [
    {
     "name": "stdout",
     "output_type": "stream",
     "text": [
      "     수학   국어   영어   정보\n",
      "서줌  100  100  100  100\n",
      "유진   80   80   80   80\n",
      "주안   70   70   70   70\n",
      "5     0    0    0    0\n",
      "국어  100   90   80   50\n",
      "승현  100   90   80   70\n",
      "3     0    0    0    0\n",
      "4   100  100  100  100\n",
      "     수학   국어   영어   정보\n",
      "서줌  100  100  100  100\n",
      "유진   80   80   80   80\n",
      "주안   70   70   70   70\n",
      "5     0    0    0    0\n",
      "국어   50   60   70   80\n",
      "승현  100   90   80   70\n",
      "3     0    0    0    0\n",
      "4   100  100  100  100\n",
      "     수학   국어   영어   정보\n",
      "서줌  100  100  100  100\n",
      "유진   80   80   80   80\n",
      "주안   70   70   70   70\n",
      "5     0    0    0    0\n",
      "국어   50   60   70   80\n",
      "승현  100   90   80   70\n",
      "3     0    0    0    0\n",
      "4   100  100  100  100\n",
      "     수학   국어   영어   정보\n",
      "서줌  100  100  100  100\n",
      "유진   80   80   80   80\n",
      "주안   70   70   70   70\n",
      "5     0    0    0    0\n",
      "국어   50   60   70   80\n",
      "승현  100   90   80   70\n",
      "3     0    0    0    0\n",
      "4   100  100  100  100\n",
      "     수학   국어   영어   정보\n",
      "서줌  100  100  100  100\n",
      "유진   80   80   80   80\n",
      "주안   70   70   70   70\n",
      "국어   50   60   70   80\n",
      "승현  100   90   80   70\n"
     ]
    }
   ],
   "source": [
    "##원소의 수정\n",
    "df.loc['국어']=[100,90,80,50] # 이미 있는 값이면 수정이됨. 리스트로 줬음\n",
    "print(df)\n",
    "df.loc['국어']=50,60,70,80 #튜플로줌. 튜플은 소괄호 말고 콤마가 중요함\n",
    "print(df)\n",
    "df.loc['서줌']=100 # 서줌 값이 모두 100으로 변경\n",
    "print(df)\n",
    "df.loc['승현']=[100,90,80,70] #없던 값 쓰면 추가됨\n",
    "print(df)\n",
    "df.drop([3,4,5],axis=0,inplace=True) #345 잘못만들어서 삭제함. inplace true해줘야 진짜 삭제됨. 아님 삭제된 객체를 반환함.\n",
    "print(df)"
   ]
  },
  {
   "cell_type": "code",
   "execution_count": 23,
   "id": "1775d39c",
   "metadata": {},
   "outputs": [
    {
     "name": "stdout",
     "output_type": "stream",
     "text": [
      "     수학  국어  영어  정보\n",
      "서줌  100  90  80  70\n",
      "유진   80  60  80  80\n",
      "주안   70  70  70  70\n",
      "승현  100  90  80  70\n"
     ]
    }
   ],
   "source": [
    "df.loc['서줌']=df.loc['승현'] #값으로 가져올 수도 있음\n",
    "print(df)"
   ]
  },
  {
   "cell_type": "code",
   "execution_count": 27,
   "id": "7a6330ed",
   "metadata": {},
   "outputs": [
    {
     "name": "stdout",
     "output_type": "stream",
     "text": [
      "      수학    국어  영어  정보\n",
      "서줌  7000  8000  80  70\n",
      "유진    80    60  80  80\n",
      "주안    70    70  70  70\n",
      "승현   100    90  80  70\n"
     ]
    }
   ],
   "source": [
    "df.loc['서줌',['국어','수학']] = 8000,7000  #직접 수정\n",
    "print(df)"
   ]
  }
 ],
 "metadata": {
  "kernelspec": {
   "display_name": "Python 3 (ipykernel)",
   "language": "python",
   "name": "python3"
  },
  "language_info": {
   "codemirror_mode": {
    "name": "ipython",
    "version": 3
   },
   "file_extension": ".py",
   "mimetype": "text/x-python",
   "name": "python",
   "nbconvert_exporter": "python",
   "pygments_lexer": "ipython3",
   "version": "3.10.7"
  }
 },
 "nbformat": 4,
 "nbformat_minor": 5
}
